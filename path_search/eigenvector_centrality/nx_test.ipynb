{
 "cells": [
  {
   "cell_type": "code",
   "execution_count": 3,
   "id": "71130392",
   "metadata": {},
   "outputs": [],
   "source": [
    "import networkx as nx\n",
    "G = nx.Graph()"
   ]
  },
  {
   "cell_type": "code",
   "execution_count": 2,
   "id": "e89fc9b8",
   "metadata": {},
   "outputs": [],
   "source": [
    "G.add_edges_from([(1,2),(1,3)])\n",
    "G.add_node(1)\n",
    "G.add_edge(1,2)\n",
    "G.add_node(\"spam\")\n",
    "G.add_nodes_from(\"spam\")\n",
    "G.add_edge(3,'m')"
   ]
  },
  {
   "cell_type": "code",
   "execution_count": 3,
   "id": "a50d4b4b",
   "metadata": {},
   "outputs": [
    {
     "name": "stdout",
     "output_type": "stream",
     "text": [
      "8\n",
      "3\n"
     ]
    }
   ],
   "source": [
    "print(G.number_of_nodes())\n",
    "print(G.number_of_edges())"
   ]
  },
  {
   "cell_type": "code",
   "execution_count": 4,
   "id": "12d3648f",
   "metadata": {
    "scrolled": false
   },
   "outputs": [
    {
     "name": "stdout",
     "output_type": "stream",
     "text": [
      "[1, 2, 3, 'spam', 's', 'p', 'a', 'm']\n"
     ]
    }
   ],
   "source": [
    "print(list(G.nodes))"
   ]
  },
  {
   "cell_type": "code",
   "execution_count": 5,
   "id": "a0270196",
   "metadata": {
    "scrolled": true
   },
   "outputs": [
    {
     "name": "stdout",
     "output_type": "stream",
     "text": [
      "[(1, 2), (1, 3), (3, 'm')]\n"
     ]
    }
   ],
   "source": [
    "print(list(G.edges))"
   ]
  },
  {
   "cell_type": "code",
   "execution_count": 6,
   "id": "2d690070",
   "metadata": {},
   "outputs": [
    {
     "name": "stdout",
     "output_type": "stream",
     "text": [
      "[2, 3]\n"
     ]
    }
   ],
   "source": [
    "print(list(G.adj[1]))"
   ]
  },
  {
   "cell_type": "code",
   "execution_count": 7,
   "id": "cf1bb94a",
   "metadata": {},
   "outputs": [
    {
     "name": "stdout",
     "output_type": "stream",
     "text": [
      "2\n"
     ]
    }
   ],
   "source": [
    "print(G.degree[1])"
   ]
  },
  {
   "cell_type": "code",
   "execution_count": 8,
   "id": "04861932",
   "metadata": {},
   "outputs": [
    {
     "name": "stdout",
     "output_type": "stream",
     "text": [
      "[(2, 1), ('m', 3)]\n",
      "[(2, 1), (3, 2)]\n"
     ]
    }
   ],
   "source": [
    "print(G.edges([2,'m']))\n",
    "print(G.degree([2,3]))"
   ]
  },
  {
   "cell_type": "code",
   "execution_count": 9,
   "id": "b70ab0cd",
   "metadata": {},
   "outputs": [],
   "source": [
    "G.clear()\n",
    "# 图形对象不是只能增量构建 - 指定图形结构的数据可以直接传递给各种图形类的构造函数。 \n",
    "#通过实例化其中一个图形类来创建图形结构时，您可以指定多种格式的数据。"
   ]
  },
  {
   "cell_type": "code",
   "execution_count": 12,
   "id": "73abd02a",
   "metadata": {},
   "outputs": [
    {
     "name": "stdout",
     "output_type": "stream",
     "text": [
      "[(1, 2), (2, 1)]\n"
     ]
    }
   ],
   "source": [
    "G.add_edge(1,2)\n",
    "H = nx.DiGraph(G)\n",
    "print(list(H.edges))"
   ]
  },
  {
   "cell_type": "code",
   "execution_count": 14,
   "id": "29289963",
   "metadata": {},
   "outputs": [
    {
     "name": "stdout",
     "output_type": "stream",
     "text": [
      "[(0, 1), (1, 2), (2, 3)]\n"
     ]
    }
   ],
   "source": [
    "H.clear()\n",
    "edgelist = [(0,1),(1,2),(2,3)]\n",
    "H = nx.Graph(edgelist)\n",
    "print(list(H.edges))"
   ]
  },
  {
   "cell_type": "code",
   "execution_count": 15,
   "id": "fa6875f7",
   "metadata": {},
   "outputs": [
    {
     "name": "stdout",
     "output_type": "stream",
     "text": [
      "[(0, 1), (0, 2), (1, 2)]\n"
     ]
    }
   ],
   "source": [
    "H.clear()\n",
    "adjacency_dict = {0:(1,2),1:(0,2),2:(0,1)}\n",
    "H = nx.Graph(adjacency_dict)\n",
    "print(list(H.edges))"
   ]
  },
  {
   "cell_type": "code",
   "execution_count": 17,
   "id": "24803253",
   "metadata": {},
   "outputs": [
    {
     "name": "stdout",
     "output_type": "stream",
     "text": [
      "[(0, 1), (0, 2), (1, 2), ('a', 'm')]\n",
      "[0, 1, 2, 'a', 'm']\n"
     ]
    }
   ],
   "source": [
    "H.add_edge('a','m')\n",
    "print(list(H.edges))\n",
    "print(list(H.adj))"
   ]
  },
  {
   "cell_type": "code",
   "execution_count": 21,
   "id": "ca0ed170",
   "metadata": {},
   "outputs": [
    {
     "name": "stdout",
     "output_type": "stream",
     "text": [
      "{2: {'color': 'yellow'}}\n",
      "{2: {'color': 'yellow'}}\n",
      "{'color': 'yellow'}\n",
      "{'color': 'yellow'}\n",
      "[(1, 2, None)]\n"
     ]
    }
   ],
   "source": [
    "G.clear()\n",
    "G = nx.Graph([(1,2,{\"color\":\"yellow\"})])\n",
    "print(G[1])\n",
    "print(G.adj[1])\n",
    "print(G[1][2])\n",
    "print(G.edges[1,2]) # 查找边的属性\n",
    "print(G.edges(1,2))"
   ]
  },
  {
   "cell_type": "code",
   "execution_count": 22,
   "id": "f6372ede",
   "metadata": {},
   "outputs": [
    {
     "name": "stdout",
     "output_type": "stream",
     "text": [
      "{'color': 'red'}\n"
     ]
    }
   ],
   "source": [
    "G.add_edge(1,3)\n",
    "G[1][3]['color'] = 'blue'\n",
    "G[1][2]['color'] = 'red'\n",
    "print(G.edges[1,2])"
   ]
  },
  {
   "cell_type": "code",
   "execution_count": null,
   "id": "76052f0d",
   "metadata": {},
   "outputs": [],
   "source": [
    "# 使用 G.adjacency() 或 G.adj.items() 可以快速检查所有（节点、邻接）对。 \n",
    "#请注意，对于无向图，邻接迭代会看到每条边两次。"
   ]
  },
  {
   "cell_type": "code",
   "execution_count": 24,
   "id": "f8ed0cda",
   "metadata": {},
   "outputs": [
    {
     "name": "stdout",
     "output_type": "stream",
     "text": [
      "{1: {2: {'weight': 0.125}, 3: {'weight': 0.75}}, 2: {1: {'weight': 0.125}, 4: {'weight': 1.2}}, 3: {1: {'weight': 0.75}, 4: {'weight': 0.375}}, 4: {2: {'weight': 1.2}, 3: {'weight': 0.375}}}\n",
      "ItemsView(AdjacencyView({1: {2: {'weight': 0.125}, 3: {'weight': 0.75}}, 2: {1: {'weight': 0.125}, 4: {'weight': 1.2}}, 3: {1: {'weight': 0.75}, 4: {'weight': 0.375}}, 4: {2: {'weight': 1.2}, 3: {'weight': 0.375}}}))\n",
      "(1, 2, 0.125)\n",
      "(2, 1, 0.125)\n",
      "(3, 4, 0.375)\n",
      "(4, 3, 0.375)\n"
     ]
    }
   ],
   "source": [
    "FG = nx.Graph()\n",
    "FG.add_weighted_edges_from([(1, 2, 0.125), (1, 3, 0.75), (2, 4, 1.2), (3, 4, 0.375)])\n",
    "print(FG.adj)\n",
    "print(FG.adj.items())\n",
    "for n, nbrs in FG.adj.items():\n",
    "   for nbr, eattr in nbrs.items():\n",
    "       wt = eattr['weight']\n",
    "       if wt < 0.5: print(f\"({n}, {nbr}, {wt:.3})\")"
   ]
  },
  {
   "cell_type": "code",
   "execution_count": null,
   "id": "5f2d6620",
   "metadata": {},
   "outputs": [],
   "source": [
    "# 使用edges 属性可以方便地访问所有边缘"
   ]
  },
  {
   "cell_type": "code",
   "execution_count": 27,
   "id": "74fdc8af",
   "metadata": {},
   "outputs": [
    {
     "name": "stdout",
     "output_type": "stream",
     "text": [
      "<bound method OutEdgeView.data of EdgeView([(1, 2), (1, 3), (2, 4), (3, 4)])>\n",
      "[(1, 2, 0.125), (1, 3, 0.75), (2, 4, 1.2), (3, 4, 0.375)]\n",
      "(1, 2, 0.125)\n",
      "(3, 4, 0.375)\n"
     ]
    }
   ],
   "source": [
    "print(FG.edges.data)\n",
    "print(FG.edges.data('weight'))\n",
    "for (u, v, wt) in FG.edges.data('weight'):\n",
    "    if wt < 0.5:\n",
    "        print(f\"({u}, {v}, {wt:.3})\")"
   ]
  },
  {
   "cell_type": "code",
   "execution_count": 29,
   "id": "d9372ab4",
   "metadata": {},
   "outputs": [
    {
     "name": "stdout",
     "output_type": "stream",
     "text": [
      "{'day': 'Friday'}\n",
      "{'day': 'Friday'}\n"
     ]
    }
   ],
   "source": [
    "# 图属性 创建新图形时分配图形属性\n",
    "G.clear()\n",
    "G.graph['day']='Friday'\n",
    "print(G.graph)\n",
    "G = nx.Graph(day=\"Friday\")\n",
    "print(G.graph)"
   ]
  },
  {
   "cell_type": "code",
   "execution_count": 31,
   "id": "f4968fda",
   "metadata": {},
   "outputs": [
    {
     "name": "stdout",
     "output_type": "stream",
     "text": [
      "{'time': '5pm'}\n",
      "[(1, {'time': '5pm', 'room': 714}), (3, {'time': '2pm'})]\n"
     ]
    }
   ],
   "source": [
    "# 使用 add_node(), add_nodes_from(), or G.nodes 添加节点属性\n",
    "G.add_node(1,time='5pm')\n",
    "G.add_nodes_from([3],time='2pm')\n",
    "print(G.nodes[1])\n",
    "G.nodes[1]['room']=714\n",
    "print(G.nodes.data())"
   ]
  },
  {
   "cell_type": "code",
   "execution_count": 32,
   "id": "bbd80303",
   "metadata": {},
   "outputs": [
    {
     "name": "stdout",
     "output_type": "stream",
     "text": [
      "{1: {2: {'weight': 4.7, 'color': 'blue'}}, 3: {4: {'color': 'red', 'weight': 4.2}, 2: {'weight': 8}}, 2: {1: {'weight': 4.7, 'color': 'blue'}, 3: {'weight': 8}}, 4: {3: {'color': 'red', 'weight': 4.2}, 5: {'color': 'red'}}, 5: {4: {'color': 'red'}}}\n"
     ]
    }
   ],
   "source": [
    "# 使用 add_edge()、add_edges_from() 或下标表示法添加/更改边缘属性\n",
    "G.add_edge(1, 2, weight=4.7 )\n",
    "G.add_edges_from([(3, 4), (4, 5)], color='red')\n",
    "G.add_edges_from([(1, 2, {'color': 'blue'}), (2, 3, {'weight': 8})])\n",
    "G[1][2]['weight'] = 4.7\n",
    "G.edges[3, 4]['weight'] = 4.2\n",
    "print(G.adj)"
   ]
  },
  {
   "cell_type": "code",
   "execution_count": 33,
   "id": "f87fbd84",
   "metadata": {},
   "outputs": [
    {
     "name": "stdout",
     "output_type": "stream",
     "text": [
      "0.5\n",
      "0.75\n",
      "1.25\n",
      "[2]\n",
      "[2]\n"
     ]
    }
   ],
   "source": [
    "# DiGraph 类提供了特定于有向边的附加方法和属性\n",
    "DG = nx.DiGraph()\n",
    "DG.add_weighted_edges_from([(1, 2, 0.5), (3, 1, 0.75)])\n",
    "print(DG.out_degree(1, weight='weight'))\n",
    "print(DG.in_degree(1, weight='weight'))\n",
    "print(DG.degree(1, weight='weight'))\n",
    "print(list(DG.successors(1)))\n",
    "print(list(DG.neighbors(1)))"
   ]
  },
  {
   "cell_type": "code",
   "execution_count": 35,
   "id": "a87e2aed",
   "metadata": {},
   "outputs": [
    {
     "name": "stdout",
     "output_type": "stream",
     "text": [
      "{1: 1.25, 2: 1.75, 3: 0.5}\n",
      "[1, 2, 3]\n"
     ]
    }
   ],
   "source": [
    "# NetworkX 提供了允许任意一对节点之间存在多条边的图类\n",
    "MG = nx.MultiGraph()\n",
    "MG.add_weighted_edges_from([(1, 2, 0.5), (1, 2, 0.75), (2, 3, 0.5)])\n",
    "print(dict(MG.degree(weight='weight')))\n",
    "GG = nx.Graph()\n",
    "for n, nbrs in MG.adjacency():\n",
    "    for nbr,edict in nbrs.items():\n",
    "        minvalue = min([d['weight'] for d in edict.values()])\n",
    "        GG.add_edge(n,nbr,weight = minvalue)\n",
    "print(nx.shortest_path(GG,1,3))"
   ]
  },
  {
   "cell_type": "code",
   "execution_count": 38,
   "id": "c680fd45",
   "metadata": {},
   "outputs": [
    {
     "name": "stdout",
     "output_type": "stream",
     "text": [
      "Graph with 5 nodes and 10 edges\n",
      "Graph named 'complete_bipartite_graph(3, 5)' with 8 nodes and 15 edges\n",
      "Graph with 30 nodes and 101 edges\n",
      "Graph with 30 nodes and 65 edges\n"
     ]
    }
   ],
   "source": [
    "# 为经典图使用（constructive）生成器\n",
    "K_5 = nx.complete_graph(5)\n",
    "K_3_5 = nx.complete_bipartite_graph(3, 5)\n",
    "barbell = nx.barbell_graph(10, 10)\n",
    "lollipop = nx.lollipop_graph(10, 20)\n",
    "print(K_5)\n",
    "print(K_3_5)\n",
    "print(barbell)\n",
    "print(lollipop)"
   ]
  },
  {
   "cell_type": "code",
   "execution_count": 39,
   "id": "c7884040",
   "metadata": {},
   "outputs": [],
   "source": [
    "G.clear()"
   ]
  },
  {
   "cell_type": "code",
   "execution_count": 45,
   "id": "dba25e7a",
   "metadata": {},
   "outputs": [
    {
     "name": "stdout",
     "output_type": "stream",
     "text": [
      "{'sent': [0]}\n"
     ]
    }
   ],
   "source": [
    "G.add_edge(1,2,sent = [0])\n",
    "# G.add_edge(1,2,sent = [0,2])\n",
    "print(G.edges[1,2])"
   ]
  },
  {
   "cell_type": "code",
   "execution_count": 48,
   "id": "65b14ed5",
   "metadata": {},
   "outputs": [
    {
     "name": "stdout",
     "output_type": "stream",
     "text": [
      "[]\n"
     ]
    }
   ],
   "source": [
    "G = nx.Graph()# nx.Graph()清除之前的图结构历史\n",
    "print(G.nodes)"
   ]
  },
  {
   "cell_type": "code",
   "execution_count": 49,
   "id": "7bef9b56",
   "metadata": {},
   "outputs": [
    {
     "name": "stdout",
     "output_type": "stream",
     "text": [
      "True\n",
      "True\n"
     ]
    }
   ],
   "source": [
    "G.clear()\n",
    "G.add_edge(1,2)\n",
    "print(G.has_edge(1,2))\n",
    "print(G.has_edge(2,1))"
   ]
  },
  {
   "cell_type": "code",
   "execution_count": 51,
   "id": "b0015a64",
   "metadata": {},
   "outputs": [
    {
     "name": "stdout",
     "output_type": "stream",
     "text": [
      "[(1, 2)]\n",
      "red\n"
     ]
    }
   ],
   "source": [
    "print(G.edges)# 无向图两个节点索引互换无影响\n",
    "G[1][2]['color']='red'\n",
    "print(G[2][1]['color'])"
   ]
  },
  {
   "cell_type": "code",
   "execution_count": 52,
   "id": "08567132",
   "metadata": {},
   "outputs": [
    {
     "name": "stdout",
     "output_type": "stream",
     "text": [
      "<dict_keyiterator object at 0x000001A602A2FF90>\n"
     ]
    }
   ],
   "source": [
    "G.add_edge(1,3)\n",
    "print(G.neighbors(1))"
   ]
  },
  {
   "cell_type": "code",
   "execution_count": 6,
   "id": "f6e2b4f8",
   "metadata": {},
   "outputs": [
    {
     "name": "stdout",
     "output_type": "stream",
     "text": [
      "[(1, 2), (1, 3), (2, 6), (3, 6), (4, 5)]\n",
      "[1, 6]\n"
     ]
    }
   ],
   "source": [
    "G=nx.Graph()\n",
    "G.add_edges_from([(1,2),(3,1),(3,6),(4,5),(2,6)])\n",
    "print(G.edges)\n",
    "print(list(G.neighbors(2)))\n"
   ]
  },
  {
   "cell_type": "code",
   "execution_count": 12,
   "id": "bf660c1f",
   "metadata": {},
   "outputs": [
    {
     "name": "stdout",
     "output_type": "stream",
     "text": [
      "{1: {}}\n",
      "[1]\n"
     ]
    }
   ],
   "source": [
    "import networkx as nx\n",
    "G=nx.Graph()\n",
    "G.add_edge(1,1)\n",
    "print(G[1])\n",
    "print(list(G.neighbors(1)))\n"
   ]
  },
  {
   "cell_type": "code",
   "execution_count": 13,
   "id": "3d7a0489",
   "metadata": {},
   "outputs": [
    {
     "name": "stdout",
     "output_type": "stream",
     "text": [
      "[1, 2, 3]\n"
     ]
    }
   ],
   "source": [
    "G.add_nodes_from([1,2,3,1,2])\n",
    "print(G.nodes)"
   ]
  }
 ],
 "metadata": {
  "kernelspec": {
   "display_name": "Python 3 (ipykernel)",
   "language": "python",
   "name": "python3"
  },
  "language_info": {
   "codemirror_mode": {
    "name": "ipython",
    "version": 3
   },
   "file_extension": ".py",
   "mimetype": "text/x-python",
   "name": "python",
   "nbconvert_exporter": "python",
   "pygments_lexer": "ipython3",
   "version": "3.9.12"
  }
 },
 "nbformat": 4,
 "nbformat_minor": 5
}
